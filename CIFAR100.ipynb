{
  "cells":[
    {
      "cell_type":"code",
      "source":[
        "# This Python 3 environment comes with many helpful analytics libraries installed\n",
        "# It is defined by the kaggle\/python Docker image: https:\/\/github.com\/kaggle\/docker-python\n",
        "# For example, here's several helpful packages to load\n",
        "\n",
        "import numpy as np # linear algebra\n",
        "import pandas as pd # data processing, CSV file I\/O (e.g. pd.read_csv)\n",
        "\n",
        "# Input data files are available in the read-only \"..\/input\/\" directory\n",
        "# For example, running this (by clicking run or pressing Shift+Enter) will list all files under the input directory\n",
        "\n",
        "import os\n",
        "for dirname, _, filenames in os.walk('\/kaggle\/input'):\n",
        "    for filename in filenames:\n",
        "        print(os.path.join(dirname, filename))\n",
        "\n",
        "# You can write up to 20GB to the current directory (\/kaggle\/working\/) that gets preserved as output when you create a version using \"Save & Run All\" \n",
        "# You can also write temporary files to \/kaggle\/temp\/, but they won't be saved outside of the current session"
      ],
      "execution_count":138,
      "outputs":[
        
      ],
      "metadata":{
        
      }
    },
    {
      "cell_type":"code",
      "source":[
        "x_train_val = np.load(\"\/kaggle\/input\/rn2021q1itba-cifar100\/x_train.npy\")\n",
        "x_test = np.load(\"\/kaggle\/input\/rn2021q1itba-cifar100\/x_test.npy\")\n",
        "y_train_val = np.load(\"\/kaggle\/input\/rn2021q1itba-cifar100\/y_train.npy\")"
      ],
      "execution_count":139,
      "outputs":[
        {
          "ename":"FileNotFoundError",
          "evalue":"FileNotFoundError: [Errno 2] No such file or directory: '\/kaggle\/input\/rn2021q1itba-cifar100\/x_train.npy'",
          "traceback":[
            "\u001b[0;31m---------------------------------------------------------------------------",
            "Traceback (most recent call last)",
            "    at line 1 in <module>",
            "FileNotFoundError: [Errno 2] No such file or directory: '\/kaggle\/input\/rn2021q1itba-cifar100\/x_train.npy'"
          ],
          "output_type":"error"
        }
      ],
      "metadata":{
        
      }
    },
    {
      "cell_type":"code",
      "source":[
        "from matplotlib import pyplot as plt\n",
        "#Mostramos alguna imágen\n",
        "idx = 50\n",
        "plt.imshow(x_train_val[idx])\n",
        "plt.title(f'Clase: {y_train_val[idx]}')\n",
        "plt.show()"
      ],
      "execution_count":140,
      "outputs":[
        {
          "ename":"NameError",
          "evalue":"NameError: name 'x_train_val' is not defined",
          "traceback":[
            "\u001b[0;31m---------------------------------------------------------------------------",
            "Traceback (most recent call last)",
            "    at line 4 in <module>",
            "NameError: name 'x_train_val' is not defined"
          ],
          "output_type":"error"
        }
      ],
      "metadata":{
        
      }
    },
    {
      "cell_type":"code",
      "source":[
        "#Dividimos entre train y validación\n",
        "from sklearn.model_selection import train_test_split\n",
        "x_train, x_val, y_train, y_val = train_test_split(\n",
        "    x_train_val, y_train_val, test_size=0.15, random_state=42, stratify=y_train_val)"
      ],
      "execution_count":141,
      "outputs":[
        {
          "ename":"NameError",
          "evalue":"NameError: name 'x_train_val' is not defined",
          "traceback":[
            "\u001b[0;31m---------------------------------------------------------------------------",
            "Traceback (most recent call last)",
            "    at line 4 in <module>",
            "NameError: name 'x_train_val' is not defined"
          ],
          "output_type":"error"
        }
      ],
      "metadata":{
        
      }
    },
    {
      "cell_type":"code",
      "source":[
        "#Normalizamos\n",
        "x_train_norm = x_train\/255\n",
        "x_val_norm = x_val\/255\n",
        "x_test_norm = x_test\/255"
      ],
      "execution_count":142,
      "outputs":[
        {
          "ename":"NameError",
          "evalue":"NameError: name 'x_train' is not defined",
          "traceback":[
            "\u001b[0;31m---------------------------------------------------------------------------",
            "Traceback (most recent call last)",
            "    at line 2 in <module>",
            "NameError: name 'x_train' is not defined"
          ],
          "output_type":"error"
        }
      ],
      "metadata":{
        
      }
    },
    {
      "cell_type":"code",
      "source":[
        "#Armamos la red de clasificación\n",
        "from tensorflow.keras.layers import Dense, Flatten, Activation, BatchNormalization, Dropout, Conv2D, MaxPooling2D\n",
        "from tensorflow.keras.models import Sequential\n",
        "from tensorflow.keras.callbacks import TensorBoard\n",
        "from tensorflow.keras.optimizers import Adam"
      ],
      "execution_count":143,
      "outputs":[
        
      ],
      "metadata":{
        
      }
    },
    {
      "cell_type":"code",
      "source":[
        "model = Sequential()\n",
        "model.add(Conv2D(64,3, input_shape=(32,32,3)))\n",
        "model.add(BatchNormalization())\n",
        "model.add(Activation(\"relu\"))\n",
        "model.add(MaxPooling2D())\n",
        "model.add(Conv2D(128,3))\n",
        "model.add(BatchNormalization())\n",
        "model.add(Activation(\"relu\"))\n",
        "model.add(MaxPooling2D())\n",
        "model.add(Conv2D(256,3))\n",
        "model.add(BatchNormalization())\n",
        "model.add(Activation(\"relu\"))\n",
        "model.add(MaxPooling2D())\n",
        "model.add(Flatten())\n",
        "model.add(Dense(256, activation=\"relu\"))\n",
        "model.add(Dense(100, activation=\"softmax\"))\n",
        "model.compile(loss=\"sparse_categorical_crossentropy\", optimizer= Adam(learning_rate=0.001), metrics=[\"accuracy\"])"
      ],
      "execution_count":144,
      "outputs":[
        
      ],
      "metadata":{
        
      }
    },
    {
      "cell_type":"code",
      "source":[
        "model.fit(x_train_norm, y_train, batch_size = 256, validation_data = (x_val_norm, y_val), epochs=10)"
      ],
      "execution_count":145,
      "outputs":[
        {
          "ename":"NameError",
          "evalue":"NameError: name 'x_train_norm' is not defined",
          "traceback":[
            "\u001b[0;31m---------------------------------------------------------------------------",
            "Traceback (most recent call last)",
            "    at line 1 in <module>",
            "NameError: name 'x_train_norm' is not defined"
          ],
          "output_type":"error"
        }
      ],
      "metadata":{
        
      }
    },
    {
      "cell_type":"code",
      "source":[
        "y_test = model.predict(x_test_norm).argmax(axis=-1)"
      ],
      "execution_count":146,
      "outputs":[
        {
          "ename":"NameError",
          "evalue":"NameError: name 'x_test_norm' is not defined",
          "traceback":[
            "\u001b[0;31m---------------------------------------------------------------------------",
            "Traceback (most recent call last)",
            "    at line 1 in <module>",
            "NameError: name 'x_test_norm' is not defined"
          ],
          "output_type":"error"
        }
      ],
      "metadata":{
        
      }
    },
    {
      "cell_type":"code",
      "source":[
        "y_test"
      ],
      "execution_count":147,
      "outputs":[
        {
          "ename":"NameError",
          "evalue":"NameError: name 'y_test' is not defined",
          "traceback":[
            "\u001b[0;31m---------------------------------------------------------------------------",
            "Traceback (most recent call last)",
            "    at line 1 in <module>",
            "NameError: name 'y_test' is not defined"
          ],
          "output_type":"error"
        }
      ],
      "metadata":{
        
      }
    },
    {
      "cell_type":"code",
      "source":[
        "#Salvo las predicciones y genero el archivo csv según el formato pedido\n",
        "df = pd.DataFrame(y_test, columns=[\"label\"])\n",
        "df.index.name = \"Id\"\n",
        "df.to_csv(\"submission.csv\")"
      ],
      "execution_count":148,
      "outputs":[
        {
          "ename":"NameError",
          "evalue":"NameError: name 'y_test' is not defined",
          "traceback":[
            "\u001b[0;31m---------------------------------------------------------------------------",
            "Traceback (most recent call last)",
            "    at line 2 in <module>",
            "NameError: name 'y_test' is not defined"
          ],
          "output_type":"error"
        }
      ],
      "metadata":{
        
      }
    },
    {
      "cell_type":"code",
      "source":[
        "print('holaaefwasde')\n",
        "print(\"holanda\")"
      ],
      "execution_count":149,
      "outputs":[
        {
          "name":"stdout",
          "text":[
            "holaaefwasde\n",
            "holanda\n"
          ],
          "output_type":"stream"
        }
      ],
      "metadata":{
        
      }
    },
    {
      "cell_type":"code",
      "source":[
        "print('fwgwq')"
      ],
      "execution_count":150,
      "outputs":[
        {
          "name":"stdout",
          "text":[
            "fwgwq\n"
          ],
          "output_type":"stream"
        }
      ],
      "metadata":{
        
      }
    },
    {
      "cell_type":"code",
      "source":[
        "print('rigne')"
      ],
      "execution_count":151,
      "outputs":[
        {
          "name":"stdout",
          "text":[
            "rigne\n"
          ],
          "output_type":"stream"
        }
      ],
      "metadata":{
        
      }
    },
    {
      "cell_type":"code",
      "source":[
        "print('fjweijfw')"
      ],
      "execution_count":152,
      "outputs":[
        {
          "name":"stdout",
          "text":[
            "fjweijfw\n"
          ],
          "output_type":"stream"
        }
      ],
      "metadata":{
        
      }
    },
    {
      "cell_type":"code",
      "source":[
        "print(\"holandamio\")"
      ],
      "execution_count":153,
      "outputs":[
        {
          "name":"stdout",
          "text":[
            "holandamio\n"
          ],
          "output_type":"stream"
        }
      ],
      "metadata":{
        
      }
    }
  ],
  "metadata":{
    
  },
  "nbformat":4,
  "nbformat_minor":0
}